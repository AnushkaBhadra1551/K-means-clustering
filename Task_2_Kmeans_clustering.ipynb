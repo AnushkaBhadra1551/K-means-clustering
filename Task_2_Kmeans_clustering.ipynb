{
  "nbformat": 4,
  "nbformat_minor": 0,
  "metadata": {
    "colab": {
      "name": "Task 2 -Kmeans clustering",
      "provenance": [],
      "collapsed_sections": []
    },
    "kernelspec": {
      "name": "python3",
      "display_name": "Python 3"
    }
  },
  "cells": [
    {
      "cell_type": "markdown",
      "metadata": {
        "id": "pKMd2cDvSeup"
      },
      "source": [
        "**Data Science and Business Analytics Task**\r\n",
        "\r\n",
        "**Name: Anushka Bhadra**\r\n",
        "\r\n",
        "**Task 2: Prediction using Unsupervised ML**"
      ]
    },
    {
      "cell_type": "markdown",
      "metadata": {
        "id": "7IUWBbBi6M4E"
      },
      "source": [
        "**Importing all the libraries**"
      ]
    },
    {
      "cell_type": "code",
      "metadata": {
        "id": "aXTipfPe1wop"
      },
      "source": [
        "import numpy as np\r\n",
        "import pandas as pd\r\n",
        "import matplotlib.pyplot as plt\r\n",
        "import seaborn as sns\r\n",
        "from sklearn import datasets"
      ],
      "execution_count": null,
      "outputs": []
    },
    {
      "cell_type": "markdown",
      "metadata": {
        "id": "M_Xaz2Sf6Yb2"
      },
      "source": [
        "**Fetching the data**"
      ]
    },
    {
      "cell_type": "code",
      "metadata": {
        "colab": {
          "base_uri": "https://localhost:8080/",
          "height": 195
        },
        "id": "ca77c8S-1yJ6",
        "outputId": "90f92097-54d2-4562-e693-1ea7b7197fd4"
      },
      "source": [
        "iris = datasets.load_iris()\r\n",
        "iris_df = pd.DataFrame(iris.data, columns = iris.feature_names)\r\n",
        "iris_df.head()"
      ],
      "execution_count": null,
      "outputs": [
        {
          "output_type": "execute_result",
          "data": {
            "text/html": [
              "<div>\n",
              "<style scoped>\n",
              "    .dataframe tbody tr th:only-of-type {\n",
              "        vertical-align: middle;\n",
              "    }\n",
              "\n",
              "    .dataframe tbody tr th {\n",
              "        vertical-align: top;\n",
              "    }\n",
              "\n",
              "    .dataframe thead th {\n",
              "        text-align: right;\n",
              "    }\n",
              "</style>\n",
              "<table border=\"1\" class=\"dataframe\">\n",
              "  <thead>\n",
              "    <tr style=\"text-align: right;\">\n",
              "      <th></th>\n",
              "      <th>sepal length (cm)</th>\n",
              "      <th>sepal width (cm)</th>\n",
              "      <th>petal length (cm)</th>\n",
              "      <th>petal width (cm)</th>\n",
              "    </tr>\n",
              "  </thead>\n",
              "  <tbody>\n",
              "    <tr>\n",
              "      <th>0</th>\n",
              "      <td>5.1</td>\n",
              "      <td>3.5</td>\n",
              "      <td>1.4</td>\n",
              "      <td>0.2</td>\n",
              "    </tr>\n",
              "    <tr>\n",
              "      <th>1</th>\n",
              "      <td>4.9</td>\n",
              "      <td>3.0</td>\n",
              "      <td>1.4</td>\n",
              "      <td>0.2</td>\n",
              "    </tr>\n",
              "    <tr>\n",
              "      <th>2</th>\n",
              "      <td>4.7</td>\n",
              "      <td>3.2</td>\n",
              "      <td>1.3</td>\n",
              "      <td>0.2</td>\n",
              "    </tr>\n",
              "    <tr>\n",
              "      <th>3</th>\n",
              "      <td>4.6</td>\n",
              "      <td>3.1</td>\n",
              "      <td>1.5</td>\n",
              "      <td>0.2</td>\n",
              "    </tr>\n",
              "    <tr>\n",
              "      <th>4</th>\n",
              "      <td>5.0</td>\n",
              "      <td>3.6</td>\n",
              "      <td>1.4</td>\n",
              "      <td>0.2</td>\n",
              "    </tr>\n",
              "  </tbody>\n",
              "</table>\n",
              "</div>"
            ],
            "text/plain": [
              "   sepal length (cm)  sepal width (cm)  petal length (cm)  petal width (cm)\n",
              "0                5.1               3.5                1.4               0.2\n",
              "1                4.9               3.0                1.4               0.2\n",
              "2                4.7               3.2                1.3               0.2\n",
              "3                4.6               3.1                1.5               0.2\n",
              "4                5.0               3.6                1.4               0.2"
            ]
          },
          "metadata": {
            "tags": []
          },
          "execution_count": 60
        }
      ]
    },
    {
      "cell_type": "markdown",
      "metadata": {
        "id": "OWsHWCPA21po"
      },
      "source": [
        "**Predicting the optimum number of clusters**"
      ]
    },
    {
      "cell_type": "code",
      "metadata": {
        "id": "VVp4VXba1_8l"
      },
      "source": [
        "X = iris_df.iloc[:,:].values"
      ],
      "execution_count": null,
      "outputs": []
    },
    {
      "cell_type": "code",
      "metadata": {
        "colab": {
          "base_uri": "https://localhost:8080/"
        },
        "id": "RyUGR7H33yJj",
        "outputId": "99f9af5e-b376-4b0f-d0a0-8a252f581866"
      },
      "source": [
        "X.shape"
      ],
      "execution_count": null,
      "outputs": [
        {
          "output_type": "execute_result",
          "data": {
            "text/plain": [
              "(150, 4)"
            ]
          },
          "metadata": {
            "tags": []
          },
          "execution_count": 62
        }
      ]
    },
    {
      "cell_type": "code",
      "metadata": {
        "id": "QY5-s--Z4OIm"
      },
      "source": [
        "from sklearn.cluster import KMeans"
      ],
      "execution_count": null,
      "outputs": []
    },
    {
      "cell_type": "code",
      "metadata": {
        "id": "LwIIt7714RD3"
      },
      "source": [
        "wcss = []\r\n",
        "for i in range(1,11):\r\n",
        "    km = KMeans(n_clusters=i)\r\n",
        "    km.fit_predict(X)\r\n",
        "    wcss.append(km.inertia_)"
      ],
      "execution_count": null,
      "outputs": []
    },
    {
      "cell_type": "markdown",
      "metadata": {
        "id": "_syeqiY-7kzc"
      },
      "source": [
        "**wcss - Within-Cluster-Sum-of-Squares**"
      ]
    },
    {
      "cell_type": "code",
      "metadata": {
        "colab": {
          "base_uri": "https://localhost:8080/"
        },
        "id": "7O_Ib-WW4UEi",
        "outputId": "bab3d348-da8c-437a-bc7d-7d0b783de2a0"
      },
      "source": [
        "wcss"
      ],
      "execution_count": null,
      "outputs": [
        {
          "output_type": "execute_result",
          "data": {
            "text/plain": [
              "[681.3706,\n",
              " 152.34795176035792,\n",
              " 78.85144142614601,\n",
              " 57.228473214285714,\n",
              " 46.472230158730156,\n",
              " 39.03998724608725,\n",
              " 34.53097186147187,\n",
              " 30.06459307359308,\n",
              " 27.86142885623149,\n",
              " 26.15429636467651]"
            ]
          },
          "metadata": {
            "tags": []
          },
          "execution_count": 65
        }
      ]
    },
    {
      "cell_type": "markdown",
      "metadata": {
        "id": "yQwnaFID6jXl"
      },
      "source": [
        "**The elbow curve**"
      ]
    },
    {
      "cell_type": "code",
      "metadata": {
        "colab": {
          "base_uri": "https://localhost:8080/",
          "height": 265
        },
        "id": "6pGcFW5P4W-P",
        "outputId": "2aebc68f-5af4-430e-c54c-eb803a8ff906"
      },
      "source": [
        "sns.lineplot(x=range(1,11),y=wcss)\r\n",
        "plt.show()"
      ],
      "execution_count": null,
      "outputs": [
        {
          "output_type": "display_data",
          "data": {
            "image/png": "[encoded data removed]",
            "text/plain": [
              "<Figure size 432x288 with 1 Axes>"
            ]
          },
          "metadata": {
            "tags": [],
            "needs_background": "light"
          }
        }
      ]
    },
    {
      "cell_type": "markdown",
      "metadata": {
        "id": "aAEeTf3A6qKG"
      },
      "source": [
        "**From the graph it is clear that the number of clusters is 3**"
      ]
    },
    {
      "cell_type": "code",
      "metadata": {
        "id": "kkANs9iU4dL1"
      },
      "source": [
        "km = KMeans(n_clusters=3)"
      ],
      "execution_count": null,
      "outputs": []
    },
    {
      "cell_type": "markdown",
      "metadata": {
        "id": "FLA2_Smo61A2"
      },
      "source": [
        "**Predicting the model**"
      ]
    },
    {
      "cell_type": "code",
      "metadata": {
        "id": "IAkVVTj54mhM"
      },
      "source": [
        "y_pred = km.fit_predict(X)"
      ],
      "execution_count": null,
      "outputs": []
    },
    {
      "cell_type": "markdown",
      "metadata": {
        "id": "1Hwyba_o68Bz"
      },
      "source": [
        "**Representing the model visually**"
      ]
    },
    {
      "cell_type": "code",
      "metadata": {
        "colab": {
          "base_uri": "https://localhost:8080/",
          "height": 268
        },
        "id": "1a-A1zSw4pPp",
        "outputId": "d8bd0f30-5b54-4198-aef7-d038887e17dd"
      },
      "source": [
        "plt.scatter(X[y_pred == 0][:,0],X[y_pred == 0][:,1],color='green',label='Setosa')\r\n",
        "plt.scatter(X[y_pred == 1][:,0],X[y_pred == 1][:,1],color='red',label='Versicolor')\r\n",
        "plt.scatter(X[y_pred == 2][:,0],X[y_pred == 2][:,1],color='blue',label='Virginica')\r\n",
        "plt.scatter(km.cluster_centers_[:, 0], km.cluster_centers_[:,1], c = 'yellow', label = 'Centroids')\r\n",
        "plt.legend()\r\n",
        "plt.show()"
      ],
      "execution_count": null,
      "outputs": [
        {
          "output_type": "display_data",
          "data": {
            "image/png": "[encoded data removed]",
            "text/plain": [
              "<Figure size 432x288 with 1 Axes>"
            ]
          },
          "metadata": {
            "tags": [],
            "needs_background": "light"
          }
        }
      ]
    },
    {
      "cell_type": "code",
      "metadata": {
        "id": "bzhFwda843e3"
      },
      "source": [
        ""
      ],
      "execution_count": null,
      "outputs": []
    },
    {
      "cell_type": "markdown",
      "metadata": {
        "id": "knGk8gU7SWQB"
      },
      "source": [
        ""
      ]
    }
  ]
}