{
  "nbformat": 4,
  "nbformat_minor": 0,
  "metadata": {
    "colab": {
      "name": "Task 2 -Kmeans clustering",
      "provenance": [],
      "collapsed_sections": []
    },
    "kernelspec": {
      "name": "python3",
      "display_name": "Python 3"
    }
  },
  "cells": [
    {
      "cell_type": "markdown",
      "metadata": {
        "id": "7IUWBbBi6M4E"
      },
      "source": [
        "**Data Science and Business Analytics Task**"
        "**Name: Anushka Bhadra**"
        "**Task 2: Prediction using Unsupervised ML**"
        "**Importing all the libraries**"
      ]
    },
    {
      "cell_type": "code",
      "metadata": {
        "id": "aXTipfPe1wop"
      },
      "source": [
        "import numpy as np\r\n",
        "import pandas as pd\r\n",
        "import matplotlib.pyplot as plt\r\n",
        "import seaborn as sns\r\n",
        "from sklearn import datasets"
      ],
      "execution_count": 26,
      "outputs": []
    },
    {
      "cell_type": "markdown",
      "metadata": {
        "id": "M_Xaz2Sf6Yb2"
      },
      "source": [
        "**Fetching the data**"
      ]
    },
    {
      "cell_type": "code",
      "metadata": {
        "colab": {
          "base_uri": "https://localhost:8080/",
          "height": 195
        },
        "id": "ca77c8S-1yJ6",
        "outputId": "52d585d3-4a53-45c3-dedb-2f2364d3f089"
      },
      "source": [
        "iris = datasets.load_iris()\r\n",
        "iris_df = pd.DataFrame(iris.data, columns = iris.feature_names)\r\n",
        "iris_df.head()"
      ],
      "execution_count": 27,
      "outputs": [
        {
          "output_type": "execute_result",
          "data": {
            "text/html": [
              "<div>\n",
              "<style scoped>\n",
              "    .dataframe tbody tr th:only-of-type {\n",
              "        vertical-align: middle;\n",
              "    }\n",
              "\n",
              "    .dataframe tbody tr th {\n",
              "        vertical-align: top;\n",
              "    }\n",
              "\n",
              "    .dataframe thead th {\n",
              "        text-align: right;\n",
              "    }\n",
              "</style>\n",
              "<table border=\"1\" class=\"dataframe\">\n",
              "  <thead>\n",
              "    <tr style=\"text-align: right;\">\n",
              "      <th></th>\n",
              "      <th>sepal length (cm)</th>\n",
              "      <th>sepal width (cm)</th>\n",
              "      <th>petal length (cm)</th>\n",
              "      <th>petal width (cm)</th>\n",
              "    </tr>\n",
              "  </thead>\n",
              "  <tbody>\n",
              "    <tr>\n",
              "      <th>0</th>\n",
              "      <td>5.1</td>\n",
              "      <td>3.5</td>\n",
              "      <td>1.4</td>\n",
              "      <td>0.2</td>\n",
              "    </tr>\n",
              "    <tr>\n",
              "      <th>1</th>\n",
              "      <td>4.9</td>\n",
              "      <td>3.0</td>\n",
              "      <td>1.4</td>\n",
              "      <td>0.2</td>\n",
              "    </tr>\n",
              "    <tr>\n",
              "      <th>2</th>\n",
              "      <td>4.7</td>\n",
              "      <td>3.2</td>\n",
              "      <td>1.3</td>\n",
              "      <td>0.2</td>\n",
              "    </tr>\n",
              "    <tr>\n",
              "      <th>3</th>\n",
              "      <td>4.6</td>\n",
              "      <td>3.1</td>\n",
              "      <td>1.5</td>\n",
              "      <td>0.2</td>\n",
              "    </tr>\n",
              "    <tr>\n",
              "      <th>4</th>\n",
              "      <td>5.0</td>\n",
              "      <td>3.6</td>\n",
              "      <td>1.4</td>\n",
              "      <td>0.2</td>\n",
              "    </tr>\n",
              "  </tbody>\n",
              "</table>\n",
              "</div>"
            ],
            "text/plain": [
              "   sepal length (cm)  sepal width (cm)  petal length (cm)  petal width (cm)\n",
              "0                5.1               3.5                1.4               0.2\n",
              "1                4.9               3.0                1.4               0.2\n",
              "2                4.7               3.2                1.3               0.2\n",
              "3                4.6               3.1                1.5               0.2\n",
              "4                5.0               3.6                1.4               0.2"
            ]
          },
          "metadata": {
            "tags": []
          },
          "execution_count": 27
        }
      ]
    },
    {
      "cell_type": "markdown",
      "metadata": {
        "id": "OWsHWCPA21po"
      },
      "source": [
        "**Predicting the optimum number of clusters**"
      ]
    },
    {
      "cell_type": "code",
      "metadata": {
        "id": "VVp4VXba1_8l"
      },
      "source": [
        "X = iris_df.iloc[:,:].values"
      ],
      "execution_count": 28,
      "outputs": []
    },
    {
      "cell_type": "code",
      "metadata": {
        "colab": {
          "base_uri": "https://localhost:8080/"
        },
        "id": "RyUGR7H33yJj",
        "outputId": "54bf55b3-7dd4-48c9-9f51-beb7e9f664ea"
      },
      "source": [
        "X.shape"
      ],
      "execution_count": 29,
      "outputs": [
        {
          "output_type": "execute_result",
          "data": {
            "text/plain": [
              "(150, 4)"
            ]
          },
          "metadata": {
            "tags": []
          },
          "execution_count": 29
        }
      ]
    },
    {
      "cell_type": "code",
      "metadata": {
        "id": "QY5-s--Z4OIm"
      },
      "source": [
        "from sklearn.cluster import KMeans"
      ],
      "execution_count": 30,
      "outputs": []
    },
    {
      "cell_type": "code",
      "metadata": {
        "id": "LwIIt7714RD3"
      },
      "source": [
        "wcss = []\r\n",
        "for i in range(1,11):\r\n",
        "    km = KMeans(n_clusters=i)\r\n",
        "    km.fit_predict(X)\r\n",
        "    wcss.append(km.inertia_)"
      ],
      "execution_count": 31,
      "outputs": []
    },
    {
      "cell_type": "markdown",
      "metadata": {
        "id": "_syeqiY-7kzc"
      },
      "source": [
        "**wcss - Within-Cluster-Sum-of-Squares**"
      ]
    },
    {
      "cell_type": "code",
      "metadata": {
        "colab": {
          "base_uri": "https://localhost:8080/"
        },
        "id": "7O_Ib-WW4UEi",
        "outputId": "bc8f91e1-9ebe-4bb2-a446-5af007553c0a"
      },
      "source": [
        "wcss"
      ],
      "execution_count": 32,
      "outputs": [
        {
          "output_type": "execute_result",
          "data": {
            "text/plain": [
              "[681.3706,\n",
              " 152.34795176035792,\n",
              " 78.85144142614601,\n",
              " 57.228473214285714,\n",
              " 46.44618205128205,\n",
              " 39.03998724608725,\n",
              " 34.70861343656344,\n",
              " 29.990426406926414,\n",
              " 28.274541182501714,\n",
              " 26.401589883800412]"
            ]
          },
          "metadata": {
            "tags": []
          },
          "execution_count": 32
        }
      ]
    },
    {
      "cell_type": "markdown",
      "metadata": {
        "id": "yQwnaFID6jXl"
      },
      "source": [
        "**The elbow curve**"
      ]
    },
    {
      "cell_type": "code",
      "metadata": {
        "colab": {
          "base_uri": "https://localhost:8080/",
          "height": 265
        },
        "id": "6pGcFW5P4W-P",
        "outputId": "3e9712fc-bd29-4fe7-c83e-df05ed963416"
      },
      "source": [
        "sns.lineplot(x=range(1,11),y=wcss)\r\n",
        "plt.show()"
      ],
      "execution_count": 33,
      "outputs": [
        {
          "output_type": "display_data",
          "data": {
            "image/png": "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\n",
            "text/plain": [
              "<Figure size 432x288 with 1 Axes>"
            ]
          },
          "metadata": {
            "tags": [],
            "needs_background": "light"
          }
        }
      ]
    },
    {
      "cell_type": "markdown",
      "metadata": {
        "id": "aAEeTf3A6qKG"
      },
      "source": [
        "**From the graph it is clear that the number of clusters is 3**"
      ]
    },
    {
      "cell_type": "code",
      "metadata": {
        "id": "kkANs9iU4dL1"
      },
      "source": [
        "km = KMeans(n_clusters=3)"
      ],
      "execution_count": 34,
      "outputs": []
    },
    {
      "cell_type": "markdown",
      "metadata": {
        "id": "FLA2_Smo61A2"
      },
      "source": [
        "**Predicting the model**"
      ]
    },
    {
      "cell_type": "code",
      "metadata": {
        "id": "IAkVVTj54mhM"
      },
      "source": [
        "y_pred = km.fit_predict(X)"
      ],
      "execution_count": 35,
      "outputs": []
    },
    {
      "cell_type": "markdown",
      "metadata": {
        "id": "1Hwyba_o68Bz"
      },
      "source": [
        "**Representing the model visually**"
      ]
    },
    {
      "cell_type": "code",
      "metadata": {
        "colab": {
          "base_uri": "https://localhost:8080/",
          "height": 268
        },
        "id": "1a-A1zSw4pPp",
        "outputId": "3d07a4fa-3900-4a63-d3ac-7023671b47cf"
      },
      "source": [
        "plt.scatter(X[y_pred == 0][:,0],X[y_pred == 0][:,1],color='green',label='Setosa')\r\n",
        "plt.scatter(X[y_pred == 1][:,0],X[y_pred == 1][:,1],color='red',label='Versicolor')\r\n",
        "plt.scatter(X[y_pred == 2][:,0],X[y_pred == 2][:,1],color='blue',label='Virginica')\r\n",
        "plt.scatter(km.cluster_centers_[:, 0], km.cluster_centers_[:,1], c = 'yellow', label = 'Centroids')\r\n",
        "plt.legend()\r\n",
        "plt.show()"
      ],
      "execution_count": 36,
      "outputs": [
        {
          "output_type": "display_data",
          "data": {
            "image/png": "iVBORw0KGgoAAAANSUhEUgAAAXUAAAD7CAYAAACVMATUAAAABHNCSVQICAgIfAhkiAAAAAlwSFlzAAALEgAACxIB0t1+/AAAADh0RVh0U29mdHdhcmUAbWF0cGxvdGxpYiB2ZXJzaW9uMy4yLjIsIGh0dHA6Ly9tYXRwbG90bGliLm9yZy+WH4yJAAAgAElEQVR4nO3df3RU9Zn48ffDhIoBxS5mWy2Q5LtqjwQChN/fiohB1xXF0mqRRlesbdZE67q2R9umZyvuySprW7HfFtZYW7CJ4AqVivSHFdkqPbaSIALiLywJIrVGrCkYVBKe7x93EpIhk3snc+fOnZnndc6cZO7c+dzn3oQnw+c+n89HVBVjjDHZYVC6AzDGGOMfS+rGGJNFLKkbY0wWsaRujDFZxJK6McZkEUvqxhiTRTwndRGJiMjzIvJ4H68tEpFWEdkWfXzZ3zCNMcZ4kZfAvv8KvAScHOf1h1X1xuRDMsYYM1CekrqIjATmArXALX4c+NRTT9WioiI/mjLGmJzR1NT0jqoWxHvd6yf1pcCtwEn97PN5ETkXeBX4N1V9o78Gi4qKaGxs9Hh4Y4wxACLS0t/rrn3qInIJ8LaqNvWz23qgSFVLgd8CK+O0VSkijSLS2Nra6nZoY4wxCfJyo/QzwDwRaQZWA+eLSH3PHVT1gKp+GH36Y2BSXw2pap2qTlbVyQUFcf/3YIwxZoBck7qqflNVR6pqEXAl8JSqXtVzHxE5rcfTeTg3VI0xxgQskeqXXkTkDqBRVR8DbhKReUAH8C6wyJ/wjDHGJELSNfXu5MmT1W6UGmNMYkSkSVUnx3vdRpSaUGjY0UDR0iIGLR5E0dIiGnY0pDskYzLSgLtfjPFLw44GKtdX0n6kHYCWthYq11cCUDGuIp2hGZNx7JO6SbuajTXdCb1L+5F2ajbWpCkiYzKXJXWTdnvb9ia03RgTnyV1k3ajh49OaLsxJj5L6ibtastryR+c32tb/uB8astr0xSRMZnLkrpJu4pxFdRdWkfh8EIEoXB4IXWX1tlNUmMGwOrUjTEmg1idujHG5BBL6sYYk0UsqRtjTBaxpG6MMVnEkroxxmQRS+rGGJNFLKkbY0wWsaRujDFZxJK6McZkEUvqJmm2wIUx4WGLZJik2AIXxoSLfVI3SbEFLowJF0vqJim2wIUx4WJJ3STFFrgwJlwsqZuk2AIXxoSLJXWTFFvgwphwsUUyjDEmg9giGTnOasiNyS1Wp57FrIbcmNxjn9SzmNWQG5N7LKlnMashNyb3WFLPYlZDbkzusaSexayG3JjcY0k9i1kNuTG5x3OduohEgEbgTVW9JOa1E4AHgUnAAWCBqjb3157VqRtjTOL8rFP/V+ClOK9dB/xVVc8A7gGWJNCuMa6s3t4YbzwldREZCcwFfhxnl8uAldHv1wDlIiLJh2fMsXr7lrYWFO2ut7fEbszxvH5SXwrcChyN8/qngDcAVLUDaANGJB2dMVi9vTGJcE3qInIJ8LaqNiV7MBGpFJFGEWlsbW1NtjmTI6ze3hjvvHxS/wwwT0SagdXA+SJSH7PPm8AoABHJA4bj3DDtRVXrVHWyqk4uKChIKnCTO6ze3hjvXJO6qn5TVUeqahFwJfCUql4Vs9tjwDXR7y+P7pOe6R9N1rF6e2O8G3CduojcISLzok8fAEaIyG7gFuAbfgRnDFi9vTGJsPnUjTEmg9h86iYp1RuqybsjD1ks5N2RR/WG6nSHZIzph82nbuKq3lDN8sbl3c87tbP7+bK5y9IVljGmH/ZJ3cRV11SX0HZjTPpZUjdxdWpnQtuNMelnSd3EFZFIQtuNMelnSd3EVTmpMqHtxpj0sxulJq6um6F1TXV0aicRiVA5qdJukhoTYlanbowxGcTq1I0xJodYUs9gcx6cgyyW7secB+ekO6QBs0UwTNg1NEBREQwa5HxtGMCvqB9tuLGknqHmPDiHjXs29tq2cc/GjEzstgiGCbuGBqishJYWUHW+VlYmlpT9aMML61PPULI4/sJS+p3MmiCzaGkRLW0tx20vHF5I883NwQdkTIyiIicJxyoshObm4NoA61M3GcAWwTBhtzfOr2K87alqwwtL6ibtbBEME3aj4/wqxtueqja8sKSeocqLyxPaHma2CIYJu9payO/9K0p+vrM9yDa8sKSeoZ785yePS+DlxeU8+c9PpimigbNFMEzYVVRAXZ3T/y3ifK2rc7YH2YYXdqPUGGMyiN0ozWJ+1Ha7tWH148ZkFpv7JUN11Xa3H2kH6K7tBjx3W7i14ccxjDHBsu6XDOVHbbdbG1Y/bkz4WPdLlvKjttutDasfNybzWFLPUH7Udru1YfXjxmQeS+oZyo/abrc2rH7cmMxjST1D+VHb7daG1Y8bk3nsRqkxxmQQu1E6AEHUZns5htWIm1wQxBzjucTq1GMEUZvt5RhWI25yQdcc4+3Or3n3HOPg//D5XGHdLzGCqM32cgyrETe5wK85xnOJdb8kKIjabC/HsBpxkwuCmmM8l1hSjxFEbbaXY1iNuMkFQc0xnkssqccIojbbyzGsRtzkgqDmGM8lltRjBFGb7eUYViNuckFQc4znErtRaowxGSTpG6UiMkREnhORF0TkRRFZ3Mc+i0SkVUS2RR9fTjZwA9Ubqsm7Iw9ZLOTdkUf1huqEXofw1NwbY4LhpU79Q+B8VT0kIoOBzSLyK1X9Q8x+D6vqjf6HmJuqN1SzvHF59/NO7ex+vmzuMtfXITw198aY4Lh+UlfHoejTwdFHevpsckhdU12/291eB6jZWNOdbLu0H2mnZmONT1EGcwxjjHeebpSKSEREtgFvA79V1T/2sdvnRWS7iKwRkVFx2qkUkUYRaWxtbU0i7OzXqZ39bnd7HcJTc2+MCY6npK6qnao6ARgJTBWRsTG7rAeKVLUU+C2wMk47dao6WVUnFxQUJBN31otIpN/tbq9DeGrujTHBSaikUVXfAzYBF8VsP6CqH0af/hiY5E94uatyUmW/291eh/DU3BtjguN6o1RECoAjqvqeiJwIXAAsidnnNFX9c/TpPOAl3yPNMcvmLmPy6a9SXryRUcPhjTbYuKecL01c1v06OH3ondpJRCJUTqrs3g7HblTWbKxhb9teRg8fTW15re8196k+hjHGO9c6dREpxelOieB8sv8fVb1DRO4AGlX1MRG5EyeZdwDvAlWq+nJ/7VqdupsGoBLoeRMyH6gDLGEak6vc6tRt8FFoFQF9TF9HIdAcaCTGmPCwWRoHwI/BNF4GBvUvXvXIse1BLLSR/HmEiA+rMXhpwhZ9MOlki2TE8GMwjZeBQW4OtA9lRP6hONuDWWjDj/MIDR9WY/DShC36YNLNul9i+LE4Rd4deX3WkUckQse/d3hq46q1g7jvUmXox45te/8j+Jf1Qv3njway0IYf5xEaPqzG4KUJW/TBpJp1vyTIj8E0XgYGuWnYqXxlPTS/B0fV+fqV9c52r3Emey5+nEdo+LAag5cmbNEHk26W1GP4MZjGy8AgL22s2gnF90LkDufrqp3H2ghioQ0/ziM0fFiNwUsTtuiDSTdL6jH8GEzjZWBQsm0EsdCGH+cRGj6sxuClCVv0waSdqqblMWnSJA2r+u31WnhPocrtooX3FGr99vqE26h6vEojiyPK7WhkcUSrHq/yvQ0vcSZ7Ln6cR2jU16sWFqqKOF/rE/+5emnCh8MYExfO+KC4udVulBpjTAaxG6UZzK3G3BanCKeG6s0U5e1jkBylKG8fDdWbA4+huhry8pwl4vLynOcmN1ideki51Zjb4hTh1FC9mcrlE2lnKAAtnSOpXP5xYDMVy84JJIbqalh+bHgBnZ3Hni/LsOEFJnHW/RJSbjXmftTTG/8V5e2jpXPkcdsLI/to7jh+eyrk5TmJPFYkAh0ZNrzAHM+6XzKUW425LU4RTns7T09oeyr0ldD7226yiyX1kHKrMbfFKcJpdGR/QttTIRJnGEG87Sa7WFIPKbcac1ucIpxqK5vJ5/1e2/J5n9rK5sBiqIwzjCDedpNdLKmHVMW4CuouraNweCGCUDi8kLpL67pvgrq9btKjYtk51FU9T2FkH8JRCiP7qKt6PrCbpODcDK2qOvbJPBJxnttN0txgN0qNMSaD5NyNUj9qt93aCGqOcatDT1CGTGTuVsce1Gm4HcdTHAHNUW8S0N9w01Q+UjFNQP32es2vzVdup/uRX5uf0NB4tzaqHq/q9VrXw+/h836cS06pr1fNz1eFY4/8/NCN0a+vekbzOdQ7TA5pfdUzzusBnYbbcTzF4UOwGfJjCxVyaZoAP2q33doIao5xq0NPUIZMZO5Wxx7Uabgdx1McAc1Rb3rLqe4XP2q33doIao5xq0NPUIZMZO5Wxx7Uabgdx1McAc1RbxKTVUndj9pttzaCmmPc6tATlCETmbvVsQd1Gm7H8RRHQHPUm8RkVVL3o3bbrY2g5hi3OvQEZchE5m517EGdhttxPMUR0Bz1JkH9dbin8pGq+dT9mAvdrY2g5hj341xySoZMZF5f9YwWRt5QoVMLI2903yTtfj2g03A7jqc4Apqj3hxDLt0oNcaYbJdTN0r9kk217iZ8gqjLbpjzE4qkxamFlxYa5vwk4TbmzHHmY+96zJnjf5zGf5bUY3TNU97S1oKi3fOUJ5LY3dqo3lDN8sbl3RUzndrJ8sbllthzQEODMwdLS4tTld3S4jz3M7E3zPkJlRsX0EIhyiBaKKRy44KEEvucObBxY+9tGzdaYs8E1v0SI5tq3U34BFGXXSQttFB4/DFooVmP335MA1AD7KW5eTTf+lYtq1YdP5dQmlKGiXLrfrGVj2JkU627CZ8g6rL3Miqh7Y4GoBJwVtIqKmrh/vudiq6+ErsJL+t+iZFNte4mfIKoyx7NGwltd9TQldC7DB3azn/+Z41/gZlAWFKPkU217iZ8gqjLri3f2HctfPnGOO8A6Pu/CqNH995eXp5sdCbl+qt3TOUjVXXqfsimWncTPkHUZdeXP6CFNDu18DRrffkDLu8o1L7+qe7ZU9g90VZ5uf9xmsRhderGGHe9+9Qd+UAdYH3qYZJ0nbqIDBGR50TkBRF5UUQW97HPCSLysIjsFpE/ikhRcmEbY4JVgZPACwGJfrWEnom89Kl/CJyvquOBCcBFIjI9Zp/rgL+q6hnAPcASf8N0eBkUFJaFJdwGF2XMufgxUqa6GvLynBEseXnO83Qcx8sxvMSaYp4G/bicy8AueQXQDByNfk0+oXu55GFYJCNT4vSkv76Z2AfO/8e2AtNitv8GmBH9Pg94h2gNfLxHon3qXhaNCMvCEm4LaWTMufixgkFVVe/3dz2qetxDCOI4Xo7hJdYUKy/vO4Re/dku5xLUJXfj5RhhWCQjU+Lsgh996iISAZqAM4AfqeptMa/vBC5S1X3R569HE/878dpMtE/dy6CgsCws4Ta4KGPOxY+RMnl50NlH/X0kAh0dwR3HyzG8xJpiIvFf6/6n6nIuQV1yN16OEYZFMjIlzi6+zP2iqp2qOgEYCUwVkbEDDKZSRBpFpLG1tTWh93oZFBSWhSXcBhdlzLn4MVKmr+wSuz2I43g5hpdYw8DlXIK65G68HCMMi2RkSpxeJVSnrqrvAZuAi2JeehOc4WoikgcMBw708f46VZ2sqpMLCgoSCtTLoKCwLCzhNrgoY87Fj5EykTgDqnpuD+I4Xo7hJdYwcDmXoC65Gy/HCMMiGZkSp1deql8KROSU6PcnAhcAL8fs9hhwTfT7y4Gn1Eu/TgK8DAoKy8ISboOLMuZc/BgpUxlnQFXP7UEcx8sxvMSaYvEG9/Ta7nIuQV1yN16OEYZFMjIlTs/663CP5uVS4HlgO7AT+Pfo9juAedHvhwCPALuB54D/49buQAYfeRkUFJaFJdwGF2XMufgxUqaqSjUSce4uRSJ933gM4jhejuEl1hSLvVna56Afl3MJ6pK78XKMMCySkSlxqtrgI2OMySo5t0hGKGq7TW9hKQL2Iw4Pbbju4se5ZkzRdPJy6FT90d/H+FQ+UjH3Syhqu01vYSkC9iMOD2247uLHuYapaDrFcuhUPSOXul9CUdttegtLEbAfcXhow3UXP841TEXTKZZDp+qZW/dLViX1QYsHoRx/PoJw9DtHfT2W8WjQoL6XyhGBo0e97xOGODy04bqLH+caxPUKiRw6Vc9yqk89FLXdprewFAH7EYeHNlx38eNcM6loOkk5dKq+yaqkHorabtNbWIqA/YjDQxuuu/hxrhlVNJ2cHDpV//TX4Z7KR6oWyQhFbbfpLSxFwH7E4aEN1138ONewFE0HIIdO1RNy6UapMcZku5zqUzch5cc85kEVK/sRR7JznQd1rllUAB6WYQ6h0N/H+FQ+wrxGqfGRH/OYB1Ws7Eccyc51HtS5ZlEBeFiGOQQF634xaeXHPOZBFSv7EUeyc50Hda5ZVAAelmEOQcmpOnUTQl4Kjd1WhgiqWNmPOFz2cV0EI6hzzaIC8LAMcwiK9amb9PJjHnPPxcoNQBHOr3VR9HkC/Igj2bnOgyrMzqIC8LAMcwgLS+omtfyYx9xTsXIDUAm0ABr9WklCid2POJKd6zyowuwsKgAPyzCH0Oivwz2VD7tRmkP8mMfctY1C7ftXrTCxWP2Ykz3Zuc6DKszOogLwsAxzCAJ2o9TkhkHQx7w/IEBm9REb0x/rU891YSiu9SOGkhLnrlTXo6QkZod4nZs9toek/jsMPxKTxfr7GJ/Kh3W/BCAMxbV+xDBmTN/F3WPG9DyQquZr71+z/Oh2n+LwwuU4YfiRmMyGdb/ksDAU1/oRg2sdYJcGoAbYi/MJvRao8C8OL1yOE4YficlsVqeey8JQXOtHDJ6Teorj8OE4YfiRpMqRI0fYt28fH3zwQbpDyQpDhgxh5MiRDB48uNd2t6Sel/LITPqMHt33x8Igi2vDEEOQcbgcJyyXIxX27dvHSSedRFFREdLfH2LjSlU5cOAA+/bto7i4OKH32o3SbBaG4lo/YhgzJrHtqYrDh+OE4UeSKh988AEjRoywhO4DEWHEiBED+19Pfx3uqXzYjdKAhKG41o8YYm+W9rpJGmAcPhwnDD+SVNi1a1e6Q8g6fV1T7EapMSYIL730EmeffXa6w6C2tpaHHnqISCTCoEGDuO+++5g2bVqf+65YsYILL7yQ008/PeAovenrmlqdukk9Pwqv3doIqLjbasgz27PPPsvjjz/O1q1b2b59O08++SSjRo2Ku/+KFSvYv3+/p7YPHIDt26Gx0fl64IBfUfusv4/xqXxY90uW8KPw2q2NgIq7rYY8OYl2v6Ri6cm1a9fqJZdcctz2xsZGPffcc7WsrEwvvPBC3b9/vz7yyCM6dOhQPeuss3T8+PHa3t6uTz75pE6YMEHHjh2r1157rX7wwQeqqnrTTbdpcfHZesYZ47Si4mu6ZYvqPfc8pmVlU3XChAlaXl6ub731VtLxxxpI94sldZOcwsLeWbDrUVjoXxt+HCOgU8lliST1+u31ml+br9xO9yO/Nj/pxH7w4EEdP368nnnmmVpVVaX/+7//qx999JHOmDFD3377bVVVXb16tV577bWqqjpr1izdsmWLqqoePnxYR44cqa+88oqqql599dV6zz336DvvvKOFhWfpc88d1S1bVJ966q+6ZYvqxo3v6rZtR1VV9f7779dbbrklqdj7MpCkbiWNJjl79ya2fSBt+HEMH8Iw/qnZWEP7kfZe29qPtFOzsYaKcRUDbnfYsGE0NTXxzDPPsGnTJhYsWMC3v/1tdu7cyQUXXABAZ2cnp5122nHvfeWVVyguLuass84C4JprruFHP/oRN954Ix/72BD+4z+u45xzLmHmzEsAePvtfXzrWwt4//0/89FHHyVcepgq1qdukuPHRNNubQQ0mXUmzZmd6fa29f2XMt72REQiEc477zwWL17MD3/4Q9auXUtJSQnbtm1j27Zt7NixgyeeeMJze3l5eTz00HOUl1/O5s2Pc9NNFwFw991f5YtfvJEdO3Zw3333hWbQlSV1kxw/Cq/d2giouDuba8jDZvTwvv9Sxtvu1SuvvMJrr73W/Xzbtm2cffbZtLa28uyzzwLOyNcXX3wRgJNOOomDBw8C8OlPf5rm5mZ2794NwM9+9jNmzZrFoUOHGDasjZkzL+aWW+7htddeAOD999soKfkUACtXrkwqbl/11zeTyof1qWcRPwqv3doIqLg7W2vIgxCGPvXGxkadMWOGnn322Tpu3DidP3++tra26vPPP68zZ87U0tJSHTNmjNbV1amq6po1a1xvlO7fv1+nTJmiY8aM0zPOGKvf+c4KfeEF1QcfXKfFxcVaVlamX//613XWrFlJxd4Xq1M3xqRNonXqDTsaqNlYw962vYwePpra8tqk+tOz0UDq1F1vlIrIKOBB4BM4qxDUqeq9MfucB/wC2BPd9HNVvSOh6I0xOaViXIUl8RTw0qfeAXxNVccA04EbRKSvSTeeUdUJ0YcldDdBDNgJih8Dh8JyLn6oroa8PGfqxbw853nAsulymgT11zfT1wPnE/kFMdvOAx5PpJ2c7lMPYsBOUPwYOBSWc/FDVVXfxe7HLUSaOum6nDb3i/9SPvgIKMJZgeDkmO3nAQeAF4BfASVubeV0Ug9iwE5Q/Bg4FJZz8UPXitKxj0gksBDSdTktqfsvpYOPRGQYsBa4WVX/FvPyVqBQVQ+JyMXAOuDMPtqoBCoBRudy8W8QA3aC4sfAobCcix86OxPbngLZdDlN4jzVqYvIYJyE3qCqP499XVX/pqqHot//EhgsIqf2sV+dqk5W1ckFBQVJhp7BghiwExQ/Bg6F5Vz8EIkktj0FsulymsS5JnVxZrx/AHhJVb8fZ59PRvdDRKZG2w3rHGbpF8SAnaD4MXAoLOfih8rKxLanQDZdzkTMnj2b3/zmN722LV26lKqqqgG3+dhjj3HXXXcN6L3Dhg0b8HGT0l/fjNN9wzk4pYzbgW3Rx8XA9cD10X1uBF7E6VP/A/B/3drN6T511WAG7ATFj4FDYTkXP1RVHetbj0QCvUnaJR2XM9196vfdd58uWrSo17Zp06bp7373O9f3dnR0+B7P0KFDPe975MiRPrfbLI3GmLRJOKn7/JfnwIEDWlBQoB9++KGqqu7Zs0dHjRqlv/71r3X69Ok6ceJEvfzyy/XgwYOqqlpYWKi33nqrTpw4UVetWqX33ntv90jUBQsWqKrqT3/6U73hhhtUVfWtt97Sz372s1paWqqlpaX6+9//XlVVv/e972lJSYmWlJToPffc0x1PV1I/evSofv3rX9eSkhIdO3asrl69WlVVN23apOecc45eeumleuaZZ/Z5TpbUM4l9MjVZJqGknqK6y7lz5+q6detUVfXOO+/U6667TmfOnKmHDh1SVdW77rpLFy9erKpOUl+yZEn3e0877bTu+dP/+te/qmrvpP6FL3yhO2l3dHToe++9p42NjTp27Fg9dOiQHjx4UMeMGaNbt25V1WNJfc2aNTpnzhzt6OjQt956S0eNGqX79+/XTZs2aX5+vv7pT3+Kez4DSeo2oVc6NDQ4fawtLc6vc0uL8zwTR4hUV8Py5ceqOzo7nedpGHBjMkhNDbT3nnqX9nZnexIWLlzI6tWrAVi9ejWjRo1i165dfOYzn2HChAmsXLmSlpaW7v0XLFjQ/X1paSkVFRXU19eTl3d8YeBTTz3V3T8fiUQYPnw4mzdvZv78+QwdOpRhw4bxuc99jmeeeabX+zZv3szChQuJRCJ84hOfYNasWWzZsgWAqVOn+j5lryX1dEjRL3Ra1NUltt0YSFnd5WWXXcbGjRvZunUr7e3tlJWVccEFF3RPu7tr1y4eeOCB7v2HDh3a/f2GDRu44YYb2Lp1K1OmTKGjoyOpWLzoeXy/WFJPh2wqJA5BXbbJQCmquxw2bBizZ8/mS1/6EgsXLmT69On8/ve/755O9/333+fVV1897n1Hjx7ljTfeYPbs2SxZsoS2tjYOHTrUa5/y8nKWL18OOAtttLW1MXPmTNatW0d7ezvvv/8+jz76KDNnzuz1vpkzZ/Lwww/T2dlJa2srTz/9NFOnTk3qPPtjST0dsqmQOAR12SYDpbDucuHChbzwwgssXLiQgoICVqxYwcKFCyktLWXGjBm8/PLLx72ns7OTq666inHjxjFx4kRuuukmTjnllF773HvvvWzatIlx48YxadIkdu3aRVlZGYsWLWLq1KlMmzaNL3/5y0ycOLHX++bPn09paSnjx4/n/PPP57/+67/45Cc/mfR5xtVfh3sqHzl9o9TmOjFZKN3VL9nI1ijNFBXR6UZrapwul9GjnU8oFRk4DemyZc7XujqnyyUScW76dm03Jp6Kisz8nQ85S+rpkk2/0MuWWRI3JiRyrk+9YUcDRUuLGLR4EEVLi2jYEeIywkyZFDtT4gyKXQ+TRjn1Sb1hRwOV6ytpP+KUE7a0tVC53pmTI3QrsHTVsneVPnbVskO4PuFnSpxBseth0iyn1igtWlpES1vLcdsLhxfSfHNzoLG4KipyEkKswkJobg46mvgyJc6g5PD1SHSNUuNuIGuU5lT3y962vuvA421Pq0ypZc+UOINi18OkWU4l9dHD+64Dj7c9rTKllj1T4gyKXY+0iTf1bnFxccLT5+7fv5/LL7/cdb+LL76Y9957L6G2Uy2nknpteS35g3sPeMgfnE9teQgnms6USbEzJc6g2PVIm57zvnRZvXo1K1eu5Bvf+MZx+/c3DcDpp5/OmjVrXI/5y1/+8rhBSumWU0m9YlwFdZfWUTi8EEEoHF5I3aV14btJCs5Ntbo6py9WxPlaVxe+m22ZEmdQ7Hp45neR0OWXX86GDRv46KOPAGhubmb//v28/vrr3HjjjQAsWrSI66+/nmnTpnHrrbfy+uuvM336dMaNG8e3v/3t7oUtmpubGTt2LAArVqzgc5/7HBdddBFnnnkmt956a/cxi4qKeOeddwB48MEHu0eOXn311QCsX7+eadOmMXHiRObMmcNf/vKX5E7Si/5GJqXykdMjSo3JQomMKE3VoOrYqXe/9rWv9Zo+95prrtG5c+d2L4oxd+5cfeihh1RVdfny5d3T5e7Zs0dLSkpU1Zl+t83c7TAAAAurSURBVLi4WN977z09fPiwjh49Wvfu3auqzvS9ra2tunPnTj3zzDO1tbVVVZ253VVV3333XT169Kiqqt5///16yy23JHQ+NvWuMf2proa8POcTdF7ewKYHthp0X6RqotLYqXcXLlx43D5XXHEFkejcRM8++yxXXHEFAF/84hfjtlteXs7w4cMZMmQIY8aM6TV9LzjT8l5xxRWceqqzNPPf/d3fAbBv3z7+8R//kXHjxnH33Xfz4osvJneCHlhSN7nBj3nfs2ke/DRLVZFQ7NS7kyZNOm6fgUx3e8IJJ3R/H4lEPE/L+9WvfpUbb7yRHTt2cN999/HBBx8kfOxEWVI3ucGPed+zaR78NEtVkVDs1Ltupk+fztq1awGOu8maiPPPP59HHnmEAwcOAPDuu+8C0NbWxqc+9SkAVq5cOeD2E2FJ3eQGP+Z9txp036SySKjn1Ltuli5dyve//31KS0vZvXs3w4cPH9AxS0pKqKmpYdasWYwfP55bbrkFgNtvv50rrriCSZMmdXfNpFpOjSg1OSwvr+8EHomA1xVucni0qBeJjihtaEj/RKXt7e2ceOKJiAirV69m1apV/OIXvwg2iH7YiFJj4umaf8Xr9r5YDbqvKiqcv4VHjzpf01H12dTUxIQJEygtLWXZsmV873vfCz4In+XUhF4mh/kx73s2zYNvAGepuRdeeCHdYfjKkrrJHX7M+55N8+CbrGTdL8YYk0UsqRtjTBaxpG6MMVnEkroxJqu89dZbXHnllfzDP/wDkyZN4uKLL+bVV19NuJ0VK1awf//+hN8Xbzre22+/ne9+97sJt5coS+rGmKyhqsyfP5/zzjuP119/naamJu68884BzY7YX1Lv7GfQWrqn47WkboxJkwagCCcNFUWfJ2fTpk0MHjyY66+/vnvb+PHjmTlzJnfffTdTpkyhtLSU73znO4Azxe7ZZ5/NV77yFUpKSrjwwgs5fPgwa9asobGxkYqKCiZMmMDhw4cpKiritttuo6ysjEceeYRVq1Yxbtw4xo4dy2233dZ9vJ7T8dbW1nLWWWdxzjnn8Morr3Tv84Mf/IAxY8ZQWlrKlVdemfR592QljcaYNGgAKoGuuXRaos8BBl4yunPnzj4n8XriiSd47bXXeO6551BV5s2bx9NPP83o0aN57bXXWLVqFffffz9f+MIXWLt2LVdddRU//OEP+e53v8vkyccGb44YMYKtW7eyf/9+pk+fTlNTEx//+Me58MILWbduHZ/97Ge7921qamL16tVs27aNjo4OysrKumO766672LNnDyeccILvKyfZJ3VjTBrUcCyhd2mPbvffE088wRNPPMHEiRMpKyvj5Zdf5rXXXgOguLiYCRMmADBp0iSa+5nyYcGCBQBs2bKF8847j4KCAvLy8qioqODpp5/ute8zzzzD/Pnzyc/P5+STT2bevHndr5WWllJRUUF9fT15ef5+tnZN6iIySkQ2icguEXlRRP61j31ERH4gIrtFZLuIlPkapTEmy8SbBC25ydFKSkpoamo6bruq8s1vfpNt27axbds2du/ezXXXXQckNq3uQKbt7cuGDRu44YYb2Lp1K1OmTPE8la8XXj6pdwBfU9UxwHTgBhEZE7PPPwFnRh+VwHLfIsxltiCDyVrx5thNbu7d888/nw8//JC6HlMqb9++nZNPPpmf/OQnHDp0CIA333yTt99+u9+2TjrpJA4ePNjna1OnTuV3v/sd77zzDp2dnaxatYpZs2b12ufcc89l3bp1HD58mIMHD7J+/XoAjh49yhtvvMHs2bNZsmQJbW1t3XH5wfVzv6r+Gfhz9PuDIvIS8ClgV4/dLgMejC619AcROUVETou+1wxE14IMXfN3dy3IADZM3WSBWnr3qQPkR7cPnIjw6KOPcvPNN7NkyRKGDBlCUVERS5cu5ZRTTmHGjBmAM+96fX199wpIfelaz/TEE0/k2Wef7fXaaaedxl133cXs2bNRVebOnctll13Wa5+ysjIWLFjA+PHj+fu//3umTJkCOJUzV111FW1tbagqN910k6/VMglNvSsiRcDTwFhV/VuP7Y8Dd6nq5ujzjcBtqhp3bl2beteFTfNqMkyiU+86N0trcLpcRuMkdPvA0tNApt713EMvIsOAtcDNPRN6IkSkkugt7tHJLnGS7WxBBpP1KrAk7j9P1S8iMhgnoTeo6s/72OVNYFSP5yOj23pR1TpVnayqkwsKCgYSb+5I1Xpfxpis5qX6RYAHgJdU9ftxdnsM+OdoFcx0oM3605NkCzIYYwbAS/fLZ4CrgR0isi267VtEb1Or6n8DvwQuBnbj3Pm41v9Qc4wtyGAykKrifA40yRroUqNeql82A/3+lKJVLzcMKAITny3IYDLIkCFDOHDgACNGjLDEniRV5cCBAwwZMiTh99o0AcYYX4wcOZJ9+/bR2tqa7lCywpAhQxg5cmTC77OkbozxxeDBgykuLk53GDnP5n4xxpgsYkndGGOyiCV1Y4zJIglNE+DrgUVacSZRTpdTgXfSePxEZEqsFqe/MiVOyJxYsyHOQlWNO3ozbUk93USksb/5E8IkU2K1OP2VKXFC5sSaC3Fa94sxxmQRS+rGGJNFcjmp17nvEhqZEqvF6a9MiRMyJ9asjzNn+9SNMSYb5fIndWOMyTo5kdRFJCIiz0dXaIp9bZGItIrItujjy2mKsVlEdkRjOG5JqDAt7u0h1vNEpK3HNf33NMV5ioisEZGXReQlEZkR83oorqmHOMNyPT/dI4ZtIvI3Ebk5Zp+0X1OPcYblmv6biLwoIjtFZJWIDIl5/QQReTh6Pf8YXX2uf6qa9Q/gFuAh4PE+XlsE/DAEMTYDp/bz+sXAr3BmzJwO/DHEsZ7X17VOQ5wrgS9Hv/8YcEoYr6mHOENxPWNiigBv4dRMh+6aeogz7dcUZ63nPcCJ0ef/AyyK2aca+O/o91cCD7u1m/Wf1EVkJDAX+HG6Y0lS9+LeqvoH4BQROS3dQYWViAwHzsVZ4AVV/UhV34vZLe3X1GOcYVQOvK6qsQMI035NY8SLMyzygBNFJA9n5e39Ma9fhvNHH2ANUC4u8xpnfVIHlgK3Akf72efz0f8qrhGRUf3sl0oKPCEiTdG1XGN9Cnijx/N90W3p4BYrwAwReUFEfiUiJUEGF1UMtAI/jXa9/VhEhsbsE4Zr6iVOSP/1jHUlsKqP7WG4pj3FixPSfE1V9U3guzgrb/8ZZ8W4J2J2676eqtoBtAEj+ms3q5O6iFwCvK2qTf3sth4oUtVS4Lcc+6sYtHNUtQz4J+AGETk3TXF44RbrVpz/7o4H/h+wLugAcT4BlQHLVXUi8D7wjTTE4cZLnGG4nt1E5GPAPOCRdMbhxiXOtF9TEfk4zifxYuB0YKiIXJVsu1md1HGW4psnIs3AauB8EanvuYOqHlDVD6NPfwxMCjbE7jjejH59G3gUmBqzi6fFvYPgFquq/k1VD0W//yUwWERODTjMfcA+Vf1j9PkanOTZUxiuqWucIbmePf0TsFVV/9LHa2G4pl3ixhmSazoH2KOqrap6BPg58H9j9um+ntEumuHAgf4azeqkrqrfVNWRqlqE89+wp1S111/CmP6+ecBLAYbYFcNQETmp63vgQmBnzG6hWNzbS6wi8smufj8RmYrze9bvL6LfVPUt4A0R+XR0UzmwK2a3tF9TL3GG4XrGWEj8Lo20X9Me4sYZkmu6F5guIvnRWMo5Pv88BlwT/f5ynBzW7+CinFz5SETuABpV9THgJhGZB3QA7+JUwwTtE8Cj0d+xPOAhVf21iFwPoVvc20uslwNVItIBHAaudPtFTJGvAg3R/4b/Cbg2pNfULc6wXM+uP+QXAP/SY1vorqmHONN+TVX1jyKyBqcrqAN4HqiLyU8PAD8Tkd04+elKt3ZtRKkxxmSRrO5+McaYXGNJ3RhjsogldWOMySKW1I0xJotYUjfGmCxiSd0YY7KIJXVjjMkiltSNMSaL/H9bJ+XeQIORCwAAAABJRU5ErkJggg==\n",
            "text/plain": [
              "<Figure size 432x288 with 1 Axes>"
            ]
          },
          "metadata": {
            "tags": [],
            "needs_background": "light"
          }
        }
      ]
    },
    {
      "cell_type": "code",
      "metadata": {
        "id": "bzhFwda843e3"
      },
      "source": [
        ""
      ],
      "execution_count": null,
      "outputs": []
    }
  ]
}
